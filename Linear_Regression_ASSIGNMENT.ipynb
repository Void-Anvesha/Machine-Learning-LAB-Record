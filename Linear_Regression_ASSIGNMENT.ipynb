{
  "nbformat": 4,
  "nbformat_minor": 0,
  "metadata": {
    "colab": {
      "provenance": []
    },
    "kernelspec": {
      "name": "python3",
      "display_name": "Python 3"
    },
    "language_info": {
      "name": "python"
    }
  },
  "cells": [
    {
      "cell_type": "code",
      "source": [
        "#23BAI10355\n",
        "#ANVESHA RASTOGI"
      ],
      "metadata": {
        "id": "sObyvLKi5U6A"
      },
      "execution_count": 1,
      "outputs": []
    },
    {
      "cell_type": "code",
      "execution_count": null,
      "metadata": {
        "colab": {
          "base_uri": "https://localhost:8080/"
        },
        "id": "_AgwcRvIPwPS",
        "outputId": "748c4981-78a7-4c91-fa0b-dfcf0cef0888"
      },
      "outputs": [
        {
          "output_type": "stream",
          "name": "stdout",
          "text": [
            "Linear Regression Equation: Y=1.18*X +4.24\n",
            "Predicted Expenditure for 10 lakhs salary : 16.05 thousand\n"
          ]
        }
      ],
      "source": [
        "from sklearn.linear_model import LinearRegression\n",
        "import numpy as np\n",
        "\n",
        "#Preprocessing\n",
        "\n",
        "#2D Matrix (Each row represents 1 data point)\n",
        "X=[[3],[5],[7],[8],[9]]\n",
        "Y=[8,10,12,14,15]\n",
        "\n",
        "#Model Creation\n",
        "model=LinearRegression()\n",
        "\n",
        "#Fits the line Y=mX+c into the data points\n",
        "model.fit(X,Y)\n",
        "\n",
        "#Slope->m or called the coefficient of line\n",
        "m=model.coef_[0]\n",
        "#Y-Intercept\n",
        "c=model.intercept_\n",
        "\n",
        "#.2f ->round to 2 decimal places\n",
        "print(f\"Linear Regression Equation: Y={m:.2f}*X +{c:.2f}\")\n",
        "\n",
        "#Prediction for salary when X=10\n",
        "prediction=model.predict([[10]])\n",
        "print(f\"Predicted Expenditure for 10 lakhs salary : {prediction[0]:.2f} thousand\")\n"
      ]
    },
    {
      "cell_type": "code",
      "source": [],
      "metadata": {
        "id": "V74ApLhcQBqf"
      },
      "execution_count": null,
      "outputs": []
    }
  ]
}