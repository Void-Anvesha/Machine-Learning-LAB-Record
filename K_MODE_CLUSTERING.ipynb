{
  "nbformat": 4,
  "nbformat_minor": 0,
  "metadata": {
    "colab": {
      "provenance": []
    },
    "kernelspec": {
      "name": "python3",
      "display_name": "Python 3"
    },
    "language_info": {
      "name": "python"
    }
  },
  "cells": [
    {
      "cell_type": "code",
      "execution_count": 1,
      "metadata": {
        "colab": {
          "base_uri": "https://localhost:8080/"
        },
        "id": "zTkK4Phkmjqd",
        "outputId": "c6e15c59-8f0f-4520-db6c-0e5d9a7d730c"
      },
      "outputs": [
        {
          "output_type": "stream",
          "name": "stdout",
          "text": [
            "Collecting kmodes\n",
            "  Downloading kmodes-0.12.2-py2.py3-none-any.whl.metadata (8.1 kB)\n",
            "Requirement already satisfied: numpy>=1.10.4 in /usr/local/lib/python3.12/dist-packages (from kmodes) (2.0.2)\n",
            "Requirement already satisfied: scikit-learn>=0.22.0 in /usr/local/lib/python3.12/dist-packages (from kmodes) (1.6.1)\n",
            "Requirement already satisfied: scipy>=0.13.3 in /usr/local/lib/python3.12/dist-packages (from kmodes) (1.16.1)\n",
            "Requirement already satisfied: joblib>=0.11 in /usr/local/lib/python3.12/dist-packages (from kmodes) (1.5.2)\n",
            "Requirement already satisfied: threadpoolctl>=3.1.0 in /usr/local/lib/python3.12/dist-packages (from scikit-learn>=0.22.0->kmodes) (3.6.0)\n",
            "Downloading kmodes-0.12.2-py2.py3-none-any.whl (20 kB)\n",
            "Installing collected packages: kmodes\n",
            "Successfully installed kmodes-0.12.2\n"
          ]
        }
      ],
      "source": [
        "!pip install kmodes"
      ]
    },
    {
      "cell_type": "code",
      "source": [
        "#23BAI10355\n",
        "#ANVESHA RASTOGI"
      ],
      "metadata": {
        "id": "2837IyugrNxW"
      },
      "execution_count": null,
      "outputs": []
    },
    {
      "cell_type": "markdown",
      "source": [
        "**USING K-MODES LIBRARY**"
      ],
      "metadata": {
        "id": "BaLRDXLxrVTZ"
      }
    },
    {
      "cell_type": "code",
      "source": [
        "import pandas as pd\n",
        "from kmodes.kmodes import KModes\n",
        "# Sample categorical data\n",
        "data = {\n",
        "     'F-Col': ['R', 'G', 'G', 'R', 'B', 'R', 'G', 'R'],\n",
        "     'F-Diam': ['C1', 'C1', 'C2', 'C2', 'C1', 'C1', 'C1', 'C2'],\n",
        "     'F-com': ['AZ', 'AZ', 'AB', 'AB', 'AZ', 'AB', 'AZ', 'AZ']\n",
        "}\n",
        "df = pd.DataFrame(data)\n",
        "\n",
        "# initial_centroids = [['R', 'C1', 'AZ'], ['G', 'C2', 'AB']]\n",
        "# Create KModes instance with default 'Cao' initialization\n",
        "# Use n_init=5 to run the algorithm multiple times with different centroids and choose the best result\n",
        "km = KModes(n_clusters=2, init='Cao', n_init=5, verbose=1)\n",
        "# Fit with printing cluster assignments at each iteration\n",
        "clusters = km.fit_predict(df)\n",
        "# After fitting, print each iteration's cluster assignments\n",
        "# The labels_iter_ attribute is not available when using n_init > 1\n",
        "# for i, labels in enumerate(km.labels_iter_):\n",
        "#     print(f\"Iteration {i+1} cluster assignments: {labels}\")\n",
        "df['Cluster'] = clusters\n",
        "print(\"\\nData with cluster assignment:\")\n",
        "print(df)\n",
        "\n",
        "# Print points in each cluster\n",
        "print(\"\\nData points in Cluster 1:\")\n",
        "print(df[df['Cluster'] == 0])\n",
        "\n",
        "print(\"\\nData points in Cluster 2:\")\n",
        "print(df[df['Cluster']==1])"
      ],
      "metadata": {
        "colab": {
          "base_uri": "https://localhost:8080/"
        },
        "id": "lFfW46hzm8Gm",
        "outputId": "e0f69229-9c8c-427f-82ac-51516c891c98"
      },
      "execution_count": 6,
      "outputs": [
        {
          "output_type": "stream",
          "name": "stdout",
          "text": [
            "Initialization method and algorithm are deterministic. Setting n_init to 1.\n",
            "Init: initializing centroids\n",
            "Init: initializing clusters\n",
            "Starting iterations...\n",
            "Run 1, iteration: 1/100, moves: 0, cost: 6.0\n",
            "\n",
            "Data with cluster assignment:\n",
            "  F-Col F-Diam F-com  Cluster\n",
            "0     R     C1    AZ        0\n",
            "1     G     C1    AZ        0\n",
            "2     G     C2    AB        1\n",
            "3     R     C2    AB        1\n",
            "4     B     C1    AZ        0\n",
            "5     R     C1    AB        0\n",
            "6     G     C1    AZ        0\n",
            "7     R     C2    AZ        0\n",
            "\n",
            "Data points in Cluster 1:\n",
            "  F-Col F-Diam F-com  Cluster\n",
            "0     R     C1    AZ        0\n",
            "1     G     C1    AZ        0\n",
            "4     B     C1    AZ        0\n",
            "5     R     C1    AB        0\n",
            "6     G     C1    AZ        0\n",
            "7     R     C2    AZ        0\n",
            "\n",
            "Data points in Cluster 2:\n",
            "  F-Col F-Diam F-com  Cluster\n",
            "2     G     C2    AB        1\n",
            "3     R     C2    AB        1\n"
          ]
        }
      ]
    },
    {
      "cell_type": "markdown",
      "source": [
        "**WITHOUT USING K-MODE LIBRARY**"
      ],
      "metadata": {
        "id": "WcoGp5bVstf1"
      }
    },
    {
      "cell_type": "code",
      "source": [
        "import pandas as pd\n",
        "import numpy as np\n",
        "\n",
        "# Sample categorical data\n",
        "data = {\n",
        "    'F-Col': ['R', 'G', 'G', 'R', 'B', 'R', 'G', 'R'],\n",
        "    'F-Diam': ['C1', 'C1', 'C2', 'C2', 'C1', 'C1', 'C1', 'C2'],\n",
        "    'F-com': ['AZ', 'AZ', 'AB', 'AB', 'AZ', 'AB', 'AZ', 'AZ']\n",
        "}\n",
        "df = pd.DataFrame(data)\n",
        "print(\"Original Data:\")\n",
        "print(df)\n",
        "\n",
        "def categorical_dissim(a, b):\n",
        "    # Count number of mismatches between two categorical vectors\n",
        "    return np.sum(a != b)\n",
        "\n",
        "def mode_of_column(series):\n",
        "    # Return mode, handle multimodal by picking first mode\n",
        "    return series.mode().iloc[0]\n",
        "\n",
        "# Initialize centroids randomly from actual rows (comparable to kmodes init)\n",
        "np.random.seed(42)\n",
        "k = 2\n",
        "centroid_indices = np.random.choice(df.index, size=k, replace=False)\n",
        "centroids = df.loc[centroid_indices].reset_index(drop=True)\n",
        "\n",
        "labels = pd.Series([-1] * len(df))\n",
        "\n",
        "for iteration in range(10):\n",
        "    # Assign clusters\n",
        "    new_labels = []\n",
        "    for idx, row in df.iterrows():\n",
        "        distances = centroids.apply(lambda centroid: categorical_dissim(row, centroid), axis=1)\n",
        "        new_labels.append(distances.idxmin())\n",
        "    new_labels = pd.Series(new_labels)\n",
        "\n",
        "    # Check convergence\n",
        "    if new_labels.equals(labels):\n",
        "        print(f\"Converged after {iteration} iterations\")\n",
        "        break\n",
        "    labels = new_labels\n",
        "\n",
        "    # Update centroids: for each cluster feature mode\n",
        "    new_centroids = []\n",
        "    for cluster in range(k):\n",
        "        cluster_points = df.loc[labels == cluster]\n",
        "        if not cluster_points.empty:\n",
        "            new_centroid = cluster_points.apply(mode_of_column)\n",
        "            new_centroids.append(new_centroid)\n",
        "        else:\n",
        "            # If cluster empty, keep old centroid\n",
        "            new_centroids.append(centroids.loc[cluster])\n",
        "    centroids = pd.DataFrame(new_centroids).reset_index(drop=True)\n",
        "\n",
        "# Assign cluster labels\n",
        "df['Cluster'] = labels\n",
        "\n",
        "print(\"\\nFinal cluster centroids:\")\n",
        "print(centroids)\n",
        "\n",
        "# Print data points in each cluster\n",
        "for cluster in range(k):\n",
        "    print(f\"\\nCluster {cluster+1} points:\")\n",
        "    print(df[df['Cluster']==cluster])"
      ],
      "metadata": {
        "colab": {
          "base_uri": "https://localhost:8080/"
        },
        "id": "nyGt6fZuobJq",
        "outputId": "1b501f68-01db-4342-aa9f-b361a491ced4"
      },
      "execution_count": 8,
      "outputs": [
        {
          "output_type": "stream",
          "name": "stdout",
          "text": [
            "Original Data:\n",
            "  F-Col F-Diam F-com\n",
            "0     R     C1    AZ\n",
            "1     G     C1    AZ\n",
            "2     G     C2    AB\n",
            "3     R     C2    AB\n",
            "4     B     C1    AZ\n",
            "5     R     C1    AB\n",
            "6     G     C1    AZ\n",
            "7     R     C2    AZ\n",
            "Converged after 1 iterations\n",
            "\n",
            "Final cluster centroids:\n",
            "  F-Col F-Diam F-com\n",
            "0     G     C1    AZ\n",
            "1     R     C1    AB\n",
            "\n",
            "Cluster 1 points:\n",
            "  F-Col F-Diam F-com  Cluster\n",
            "0     R     C1    AZ        0\n",
            "1     G     C1    AZ        0\n",
            "2     G     C2    AB        0\n",
            "4     B     C1    AZ        0\n",
            "6     G     C1    AZ        0\n",
            "7     R     C2    AZ        0\n",
            "\n",
            "Cluster 2 points:\n",
            "  F-Col F-Diam F-com  Cluster\n",
            "3     R     C2    AB        1\n",
            "5     R     C1    AB        1\n"
          ]
        }
      ]
    },
    {
      "cell_type": "code",
      "source": [],
      "metadata": {
        "id": "11hkxTNGtkG4"
      },
      "execution_count": null,
      "outputs": []
    }
  ]
}