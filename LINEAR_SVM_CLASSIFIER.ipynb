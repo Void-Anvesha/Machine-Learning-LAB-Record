{
  "nbformat": 4,
  "nbformat_minor": 0,
  "metadata": {
    "colab": {
      "provenance": []
    },
    "kernelspec": {
      "name": "python3",
      "display_name": "Python 3"
    },
    "language_info": {
      "name": "python"
    }
  },
  "cells": [
    {
      "cell_type": "code",
      "execution_count": null,
      "metadata": {
        "id": "Ca-5bmqO6M8E"
      },
      "outputs": [],
      "source": [
        "#23BAI10355\n",
        "#ANVESHA RASTOGI"
      ]
    },
    {
      "cell_type": "code",
      "source": [
        "from sklearn.datasets import load_iris\n",
        "from sklearn.model_selection import train_test_split\n",
        "from sklearn.svm import SVC\n",
        "from sklearn.metrics import accuracy_score, classification_report\n",
        "\n",
        "# Load dataset - Iris (using only two classes for simplicity)\n",
        "iris = load_iris()\n",
        "X = iris.data\n",
        "y = iris.target\n",
        "\n",
        "# For linear SVM example, use only two classes (binary classification)\n",
        "binary_class_indices = y != 2\n",
        "X_binary = X[binary_class_indices]\n",
        "y_binary = y[binary_class_indices]\n",
        "\n",
        "# Split train and test data\n",
        "X_train, X_test, y_train, y_test = train_test_split(\n",
        "    X_binary, y_binary, test_size=0.3, random_state=42\n",
        ")\n",
        "\n",
        "# Create Linear SVM classifier\n",
        "clf = SVC(kernel='linear', C=1.0)  # kernel='linear' for linear SVM\n",
        "\n",
        "# Train the classifier\n",
        "clf.fit(X_train, y_train)\n",
        "\n",
        "# Predict on test set\n",
        "y_pred = clf.predict(X_test)\n",
        "\n",
        "# Evaluate accuracy\n",
        "print(\"Accuracy:\", accuracy_score(y_test, y_pred))\n",
        "\n",
        "# Detailed classification report\n",
        "print(classification_report(y_test, y_pred, target_names=iris.target_names[:2]))\n"
      ],
      "metadata": {
        "id": "iCK1VMwG6hrT"
      },
      "execution_count": null,
      "outputs": []
    },
    {
      "cell_type": "code",
      "source": [],
      "metadata": {
        "id": "sqOSgqCU6jxY"
      },
      "execution_count": null,
      "outputs": []
    }
  ]
}